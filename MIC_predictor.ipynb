{
 "cells": [],
 "metadata": {
  "kernelspec": {
   "display_name": "gflow_venv",
   "language": "python",
   "name": "python3"
  },
  "language_info": {
   "name": "python",
   "version": "3.10.5"
  }
 },
 "nbformat": 4,
 "nbformat_minor": 2
}
